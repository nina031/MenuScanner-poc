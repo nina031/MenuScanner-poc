{
 "cells": [
  {
   "cell_type": "markdown",
   "metadata": {},
   "source": [
    "### Goal :\n",
    "* Application de l'OCR sur les images prétraitées\n",
    "* Extraction du texte brut\n",
    "* Stockage des coordonnées de chaque bloc de texte\n",
    "* Évaluation de la qualité de l'OCR sur différents types de menus"
   ]
  },
  {
   "cell_type": "markdown",
   "metadata": {},
   "source": [
    "Imports"
   ]
  },
  {
   "cell_type": "code",
   "execution_count": 11,
   "metadata": {},
   "outputs": [],
   "source": [
    "import os\n",
    "from azure.ai.formrecognizer import DocumentAnalysisClient\n",
    "from azure.core.credentials import AzureKeyCredential\n",
    "import requests\n",
    "import json\n",
    "from dotenv import load_dotenv"
   ]
  },
  {
   "cell_type": "markdown",
   "metadata": {},
   "source": [
    "Loard env variables"
   ]
  },
  {
   "cell_type": "code",
   "execution_count": 19,
   "metadata": {},
   "outputs": [],
   "source": [
    "load_dotenv() \n",
    "\n",
    "api_key = os.environ.get('azure_api_key')\n",
    "endpoint = os.environ.get(\"azure_endpoint\")  "
   ]
  },
  {
   "cell_type": "markdown",
   "metadata": {},
   "source": [
    "Paths"
   ]
  },
  {
   "cell_type": "code",
   "execution_count": 13,
   "metadata": {},
   "outputs": [],
   "source": [
    "marcello_path = \"../Menu_img/Originals/marcello.jpg\"\n",
    "prima_path = \"../Menu_img/Originals/menu-Prima-Family.jpg\"\n",
    "output_dir = '../data/raw_extracted/Azure_doc_intelligence'\n"
   ]
  },
  {
   "cell_type": "markdown",
   "metadata": {},
   "source": [
    "Functions"
   ]
  },
  {
   "cell_type": "code",
   "execution_count": 14,
   "metadata": {},
   "outputs": [],
   "source": [
    "# Fonction pour l'OCR avec Azure Document Intelligence\n",
    "def extract_text_from_menu(image_path):\n",
    "    \"\"\"Extrait le texte d'une image de menu avec Azure Document Intelligence.\"\"\"\n",
    "\n",
    "    document_analysis_client = DocumentAnalysisClient(\n",
    "        endpoint=endpoint, credential=AzureKeyCredential(api_key)\n",
    "    )\n",
    "    \n",
    "    with open(image_path, \"rb\") as image:\n",
    "        poller = document_analysis_client.begin_analyze_document(\n",
    "            \"prebuilt-read\", document=image\n",
    "        )\n",
    "        result = poller.result()\n",
    "\n",
    "\n",
    "    return result"
   ]
  },
  {
   "cell_type": "code",
   "execution_count": 15,
   "metadata": {},
   "outputs": [],
   "source": [
    "# Fonction pour extraire le text brut du resultat de l'OCR\n",
    "def to_raw_text(OCR_result):    \n",
    "    extracted_text = \"\"\n",
    "    for page in OCR_result.pages:\n",
    "        for line in page.lines:\n",
    "            extracted_text += line.content + \"\\n\"\n",
    "    return extracted_text"
   ]
  },
  {
   "cell_type": "markdown",
   "metadata": {},
   "source": [
    "Results"
   ]
  },
  {
   "cell_type": "code",
   "execution_count": null,
   "metadata": {},
   "outputs": [],
   "source": [
    "# Application de l'OCR sur le menu marcello\n",
    "result_marcello = extract_text_from_menu(marcello_path)"
   ]
  },
  {
   "cell_type": "code",
   "execution_count": 16,
   "metadata": {},
   "outputs": [],
   "source": [
    "# Application de l'OCR sur le menu prima lova\n",
    "result_prima = extract_text_from_menu(prima_path)"
   ]
  },
  {
   "cell_type": "code",
   "execution_count": null,
   "metadata": {},
   "outputs": [],
   "source": [
    "# Formatage du resultat de l'OCR de marcello\n",
    "resultat_OCR_marcello = to_raw_text(result_marcello)"
   ]
  },
  {
   "cell_type": "code",
   "execution_count": 17,
   "metadata": {},
   "outputs": [],
   "source": [
    "# Formatage du resultat de l'OCR de marcello\n",
    "resultat_OCR_prima = to_raw_text(result_prima)"
   ]
  },
  {
   "cell_type": "code",
   "execution_count": 9,
   "metadata": {},
   "outputs": [
    {
     "name": "stdout",
     "output_type": "stream",
     "text": [
      "Classiques\n",
      "VERDURA\n",
      "12,90\n",
      "tomate', aubergines grillées, poivrons grillés, champignons\n",
      "de Paris, oignons rouges, olives Leccine, huile de basilic, mozzarella\n",
      "fdl\n",
      "MIELINA\n",
      "12.90\n",
      "crème, chèvre, miel, mozzarella fdl'\n",
      "TARTUFO\n",
      "14.90\n",
      "crème de truffes et champignons, mozzarella fdl'\n",
      "(après cuisson, roquette, bresaola, copeaux de parmesan AOC)\n",
      "MARGHERITA\n",
      "9.90\n",
      "tomate', olives Leccine, huile de basilic, mozzarella fdl'\n",
      "REGINA\n",
      "11,90\n",
      "tomate', jambon blanc italien, champignons de Paris,\n",
      "olives Leccine, huile de basilic, mozzarella fdl'\n",
      "PARMA\n",
      "14,90\n",
      "tomate @ huile de basilic, mozzarella fdl' (après cuisson,\n",
      "roquette, jambon de Parme, burrata, tomates cerises,\n",
      "copeaux de parmesan AOC, crème de balsamique)\n",
      "QUATTRO FORMAGGI\n",
      "12,00\n",
      "tomate', taleggio AOC, gorgonzola DOP,\n",
      "parmigiano AOC, mozzarella fdl'\n",
      "CALZONE CLASSICA\n",
      "12,90\n",
      "tomate', jambon blanc italien, oeuf, champignons de Paris,\n",
      "huile de basilic, mozzarella fdl\"\n",
      "MARCELLO\n",
      "14.90\n",
      "crème, gorgonzola DOP, coppa, huile de basilic, mozzarella fdl'\n",
      "(après cuisson, jambon de Parme)\n",
      "QUATTRO STAGIONI\n",
      "13.90\n",
      "tomate', jambon blanc, artichauts à la romaine,\n",
      "aubergines grillées, poivrons grillés,\n",
      "oignons rouges, huile de basilic, mozzarella fdl'\n",
      "*Mozzarella fior di latte Orchidea.\n",
      "\"Tomate pleins champs de coopérative italienne.\n",
      "Spianata calabrera : charcuterie italienne, type chorizo\n",
      "Bresaola : viande de boeuf salée et assaisonnée, consommée crue\n",
      "Taille unique 29cm.\n",
      "\n"
     ]
    }
   ],
   "source": [
    "print(resultat_OCR_marcello)"
   ]
  },
  {
   "cell_type": "code",
   "execution_count": null,
   "metadata": {},
   "outputs": [],
   "source": [
    "# Enregistrement du resultat de marcello dans un fichier\n",
    "with open(output_dir + '/result_OCR_marcello.txt', 'w', encoding='utf-8') as file:\n",
    "    file.write(resultat_OCR_marcello)"
   ]
  },
  {
   "cell_type": "code",
   "execution_count": 18,
   "metadata": {},
   "outputs": [],
   "source": [
    "# Enregistrement du resultat de prima dans un fichier\n",
    "with open(output_dir + '/result_OCR_prima.txt', 'w', encoding='utf-8') as file:\n",
    "    file.write(resultat_OCR_prima)"
   ]
  },
  {
   "cell_type": "markdown",
   "metadata": {},
   "source": [
    "Conclusion : \n",
    "\n",
    "* Le resultat de l'OCR avec Azure document intelligence est tres satisfaisant.\n",
    "* EasyOCR est moins performant mais a voir avec un preprocessing plus poussé.\n",
    "* Point d'amelioration a prevoir : \n",
    "    * rotation des images en preprocessing car le modele ne gere pas correctement cette partie.\n",
    "    * Pour le reste du preprocessing, le modele semble bien gerer mais tester la performance avec un preprocessing prealable.\n",
    "\n"
   ]
  },
  {
   "cell_type": "markdown",
   "metadata": {},
   "source": []
  }
 ],
 "metadata": {
  "kernelspec": {
   "display_name": "Python 3",
   "language": "python",
   "name": "python3"
  },
  "language_info": {
   "codemirror_mode": {
    "name": "ipython",
    "version": 3
   },
   "file_extension": ".py",
   "mimetype": "text/x-python",
   "name": "python",
   "nbconvert_exporter": "python",
   "pygments_lexer": "ipython3",
   "version": "3.13.2"
  }
 },
 "nbformat": 4,
 "nbformat_minor": 2
}
